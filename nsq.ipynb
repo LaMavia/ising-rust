{
 "cells": [
  {
   "cell_type": "code",
   "execution_count": 1,
   "metadata": {},
   "outputs": [],
   "source": [
    "import re"
   ]
  },
  {
   "cell_type": "code",
   "execution_count": 2,
   "metadata": {},
   "outputs": [],
   "source": [
    "paths = ['data/irregular/phase/size=100_step=0.001_max=2.55_seed=2_eq=1/data.csv', 'data/irregular/phase/size=100_step=0.001_max=2.55_seed=6_eq=1/data.csv', 'data/irregular/phase/size=100_step=0.001_max=2.55_seed=3_eq=1/data.csv', 'data/irregular/phase/size=100_step=0.001_max=2.55_seed=5_eq=1/data.csv', 'data/irregular/phase/size=100_step=0.001_max=2.55_seed=4_eq=1/data.csv', 'data/irregular/phase/size=100_step=0.001_max=2.55_seed=7_eq=1/data.csv', 'data/regular/phase/size=100_step=0.001_max=2.55_seed=7_eq=1/data.csv', 'data/regular/phase/size=100_step=0.001_max=2.55_seed=2_eq=1/data.csv', 'data/regular/phase/size=100_step=0.001_max=2.55_seed=4_eq=1/data.csv', 'data/regular/phase/size=100_step=0.001_max=2.55_seed=5_eq=1/data.csv', 'data/regular/phase/size=100_step=0.001_max=2.55_seed=6_eq=1/data.csv', 'data/regular/phase/size=100_step=0.001_max=2.55_seed=3_eq=1/data.csv']"
   ]
  },
  {
   "cell_type": "code",
   "execution_count": 9,
   "metadata": {},
   "outputs": [
    {
     "name": "stdout",
     "output_type": "stream",
     "text": [
      "data/irregular/phase/size=100_step=0.001_max=2.55_seed=2_eq=1/data.csv False\n",
      "data/irregular/phase/size=100_step=0.001_max=2.55_seed=6_eq=1/data.csv False\n",
      "data/irregular/phase/size=100_step=0.001_max=2.55_seed=3_eq=1/data.csv False\n",
      "data/irregular/phase/size=100_step=0.001_max=2.55_seed=5_eq=1/data.csv False\n",
      "data/irregular/phase/size=100_step=0.001_max=2.55_seed=4_eq=1/data.csv False\n",
      "data/irregular/phase/size=100_step=0.001_max=2.55_seed=7_eq=1/data.csv False\n",
      "data/regular/phase/size=100_step=0.001_max=2.55_seed=7_eq=1/data.csv True\n",
      "data/regular/phase/size=100_step=0.001_max=2.55_seed=2_eq=1/data.csv True\n",
      "data/regular/phase/size=100_step=0.001_max=2.55_seed=4_eq=1/data.csv True\n",
      "data/regular/phase/size=100_step=0.001_max=2.55_seed=5_eq=1/data.csv True\n",
      "data/regular/phase/size=100_step=0.001_max=2.55_seed=6_eq=1/data.csv True\n",
      "data/regular/phase/size=100_step=0.001_max=2.55_seed=3_eq=1/data.csv True\n"
     ]
    }
   ],
   "source": [
    "for path in paths:\n",
    "  print(path, re.search(\"/regular/\", path) != None)"
   ]
  },
  {
   "cell_type": "code",
   "execution_count": 11,
   "metadata": {},
   "outputs": [],
   "source": [
    "class C:\n",
    "  x = []"
   ]
  },
  {
   "cell_type": "code",
   "execution_count": 12,
   "metadata": {},
   "outputs": [],
   "source": [
    "a, b = C(), C()"
   ]
  },
  {
   "cell_type": "code",
   "execution_count": 13,
   "metadata": {},
   "outputs": [
    {
     "data": {
      "text/plain": [
       "(None, None)"
      ]
     },
     "execution_count": 13,
     "metadata": {},
     "output_type": "execute_result"
    }
   ],
   "source": [
    "a.x.append(1), b.x.append(2)"
   ]
  },
  {
   "cell_type": "code",
   "execution_count": 14,
   "metadata": {},
   "outputs": [
    {
     "data": {
      "text/plain": [
       "([1, 2], [1, 2])"
      ]
     },
     "execution_count": 14,
     "metadata": {},
     "output_type": "execute_result"
    }
   ],
   "source": [
    "a.x, b.x"
   ]
  }
 ],
 "metadata": {
  "kernelspec": {
   "display_name": "Python 3.10.5 64-bit",
   "language": "python",
   "name": "python3"
  },
  "language_info": {
   "codemirror_mode": {
    "name": "ipython",
    "version": 3
   },
   "file_extension": ".py",
   "mimetype": "text/x-python",
   "name": "python",
   "nbconvert_exporter": "python",
   "pygments_lexer": "ipython3",
   "version": "3.10.5"
  },
  "orig_nbformat": 4,
  "vscode": {
   "interpreter": {
    "hash": "e7370f93d1d0cde622a1f8e1c04877d8463912d04d973331ad4851f04de6915a"
   }
  }
 },
 "nbformat": 4,
 "nbformat_minor": 2
}
