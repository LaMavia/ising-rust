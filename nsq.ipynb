{
 "cells": [
  {
   "cell_type": "code",
   "execution_count": 9,
   "metadata": {},
   "outputs": [],
   "source": [
    "import numpy as np\n",
    "import numpy.typing as npt\n",
    "from dataclasses import dataclass, field\n",
    "import random "
   ]
  },
  {
   "cell_type": "code",
   "execution_count": 12,
   "metadata": {},
   "outputs": [],
   "source": [
    "@dataclass\n",
    "class Network:\n",
    "  H: float\n",
    "  N: float\n",
    "  T: float\n",
    "  spins: npt.NDArray[float] = None\n",
    "  lattice: npt.NDArray[list[tuple[int, int]]] = None\n",
    "\n",
    "  def __make_spins(self):\n",
    "    self.spins = np.empty(\n",
    "      shape=(self.N, self.N),\n",
    "      dtype=object\n",
    "    )\n",
    "\n",
    "    it = np.nditer(self.spins, flags=['multi_index'])\n",
    "\n",
    "    for _ in it:\n",
    "      self.spins[it.multi_index] = random.choice([-1, 1])\n",
    "\n",
    "  def __make_lattice(self):\n",
    "    tried = dict(((i, j), []) for i in range(self.N) for j in range(self.N))\n",
    "\n",
    "  def make(self):\n",
    "    self.__make_spins()\n",
    "    self.__make_lattice()\n"
   ]
  },
  {
   "cell_type": "code",
   "execution_count": null,
   "metadata": {},
   "outputs": [],
   "source": [
    "def make_spins():\n",
    "  "
   ]
  }
 ],
 "metadata": {
  "kernelspec": {
   "display_name": "Python 3.10.5 64-bit",
   "language": "python",
   "name": "python3"
  },
  "language_info": {
   "codemirror_mode": {
    "name": "ipython",
    "version": 3
   },
   "file_extension": ".py",
   "mimetype": "text/x-python",
   "name": "python",
   "nbconvert_exporter": "python",
   "pygments_lexer": "ipython3",
   "version": "3.10.5"
  },
  "orig_nbformat": 4,
  "vscode": {
   "interpreter": {
    "hash": "e7370f93d1d0cde622a1f8e1c04877d8463912d04d973331ad4851f04de6915a"
   }
  }
 },
 "nbformat": 4,
 "nbformat_minor": 2
}
